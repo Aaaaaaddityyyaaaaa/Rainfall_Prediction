{
 "cells": [
  {
   "cell_type": "code",
   "execution_count": 8,
   "id": "cf7f070c-a04e-45c9-9212-801a5921604f",
   "metadata": {},
   "outputs": [],
   "source": [
    "import joblib\n",
    "from fastapi import FastAPI\n",
    "import uvicorn\n",
    "import nest_asyncio\n",
    "from pydantic import BaseModel\n",
    "import pandas as pd"
   ]
  },
  {
   "cell_type": "code",
   "execution_count": 10,
   "id": "f9d5f359-6d79-4a54-8c45-b2ecdb089aee",
   "metadata": {},
   "outputs": [],
   "source": [
    "pipeline = joblib.load(\"pipeline1.pkl\")"
   ]
  },
  {
   "cell_type": "code",
   "execution_count": 13,
   "id": "c81c51bc-3943-4bd2-96d4-20c8ff4e918e",
   "metadata": {},
   "outputs": [],
   "source": [
    "nest_asyncio.apply()"
   ]
  },
  {
   "cell_type": "code",
   "execution_count": 12,
   "id": "d3379118-33b4-4b4b-896c-795f2df4630f",
   "metadata": {},
   "outputs": [],
   "source": [
    "app = FastAPI()"
   ]
  },
  {
   "cell_type": "code",
   "execution_count": 6,
   "id": "cb685ed0-bd9d-415a-879d-838169f9cac2",
   "metadata": {},
   "outputs": [],
   "source": [
    "class Data(BaseModel):\n",
    "    Location: str\n",
    "    MinTemp: float \n",
    "    MaxTemp: float \n",
    "    Rainfall: float \n",
    "    Evaporation: float \n",
    "    Sunshine: float \n",
    "    WindGustDir: str \n",
    "    WindGustSpeed: float \n",
    "    WindDir9am: str \n",
    "    WindDir3pm: str \n",
    "    WindSpeed9am: float \n",
    "    WindSpeed3pm: float \n",
    "    Humidity9am: float \n",
    "    Humidity3pm: float \n",
    "    Pressure9am: float \n",
    "    Pressure3pm: float \n",
    "    Cloud9am: float \n",
    "    Cloud3pm: float \n",
    "    Temp9am: float \n",
    "    Temp3pm: float \n",
    "    RainToday: str\n",
    "    Season : str"
   ]
  },
  {
   "cell_type": "code",
   "execution_count": 14,
   "id": "6da2de8e-2ee4-4d57-9da9-faecf1c31ab8",
   "metadata": {},
   "outputs": [],
   "source": [
    "@app.post(\"/api/predict\")\n",
    "def pred(data:Data):\n",
    "    x = pd.DataFrame([data.dict()])\n",
    "    prediction = pipeline.predict(x)\n",
    "    return {\"prediction\":prediction.tolist()}\n",
    "    "
   ]
  },
  {
   "cell_type": "code",
   "execution_count": 19,
   "id": "5bedcd3f-e0c9-4228-b879-fdac58628a77",
   "metadata": {},
   "outputs": [],
   "source": [
    "config = uvicorn.Config(app=app, host=\"127.0.0.1\", port=8000, log_level=\"info\")\n",
    "server = uvicorn.Server(config)"
   ]
  },
  {
   "cell_type": "code",
   "execution_count": null,
   "id": "81f4dce2-8082-4ba1-91ed-41c485924ee9",
   "metadata": {},
   "outputs": [
    {
     "name": "stderr",
     "output_type": "stream",
     "text": [
      "INFO:     Started server process [20448]\n",
      "INFO:     Waiting for application startup.\n",
      "INFO:     Application startup complete.\n",
      "INFO:     Uvicorn running on http://127.0.0.1:8000 (Press CTRL+C to quit)\n",
      "C:\\Users\\Aditya Pandey\\AppData\\Local\\Temp\\ipykernel_20448\\310093094.py:3: PydanticDeprecatedSince20: The `dict` method is deprecated; use `model_dump` instead. Deprecated in Pydantic V2.0 to be removed in V3.0. See Pydantic V2 Migration Guide at https://errors.pydantic.dev/2.11/migration/\n",
      "  x = pd.DataFrame([data.dict()])\n"
     ]
    },
    {
     "name": "stdout",
     "output_type": "stream",
     "text": [
      "INFO:     127.0.0.1:58950 - \"POST /api/predict HTTP/1.1\" 200 OK\n"
     ]
    },
    {
     "name": "stderr",
     "output_type": "stream",
     "text": [
      "C:\\Users\\Aditya Pandey\\AppData\\Local\\Temp\\ipykernel_20448\\310093094.py:3: PydanticDeprecatedSince20: The `dict` method is deprecated; use `model_dump` instead. Deprecated in Pydantic V2.0 to be removed in V3.0. See Pydantic V2 Migration Guide at https://errors.pydantic.dev/2.11/migration/\n",
      "  x = pd.DataFrame([data.dict()])\n"
     ]
    },
    {
     "name": "stdout",
     "output_type": "stream",
     "text": [
      "INFO:     127.0.0.1:54119 - \"POST /api/predict HTTP/1.1\" 200 OK\n",
      "INFO:     127.0.0.1:60874 - \"POST /api/predict HTTP/1.1\" 200 OK\n"
     ]
    },
    {
     "name": "stderr",
     "output_type": "stream",
     "text": [
      "C:\\Users\\Aditya Pandey\\AppData\\Local\\Temp\\ipykernel_20448\\310093094.py:3: PydanticDeprecatedSince20: The `dict` method is deprecated; use `model_dump` instead. Deprecated in Pydantic V2.0 to be removed in V3.0. See Pydantic V2 Migration Guide at https://errors.pydantic.dev/2.11/migration/\n",
      "  x = pd.DataFrame([data.dict()])\n",
      "C:\\Users\\Aditya Pandey\\AppData\\Local\\Temp\\ipykernel_20448\\310093094.py:3: PydanticDeprecatedSince20: The `dict` method is deprecated; use `model_dump` instead. Deprecated in Pydantic V2.0 to be removed in V3.0. See Pydantic V2 Migration Guide at https://errors.pydantic.dev/2.11/migration/\n",
      "  x = pd.DataFrame([data.dict()])\n"
     ]
    },
    {
     "name": "stdout",
     "output_type": "stream",
     "text": [
      "INFO:     127.0.0.1:63619 - \"POST /api/predict HTTP/1.1\" 200 OK\n",
      "INFO:     127.0.0.1:62040 - \"POST /api/predict HTTP/1.1\" 200 OK\n"
     ]
    },
    {
     "name": "stderr",
     "output_type": "stream",
     "text": [
      "C:\\Users\\Aditya Pandey\\AppData\\Local\\Temp\\ipykernel_20448\\310093094.py:3: PydanticDeprecatedSince20: The `dict` method is deprecated; use `model_dump` instead. Deprecated in Pydantic V2.0 to be removed in V3.0. See Pydantic V2 Migration Guide at https://errors.pydantic.dev/2.11/migration/\n",
      "  x = pd.DataFrame([data.dict()])\n"
     ]
    }
   ],
   "source": [
    "await server.serve()"
   ]
  },
  {
   "cell_type": "code",
   "execution_count": null,
   "id": "2a0ac04f-0fea-48f5-8811-d350b592aa34",
   "metadata": {},
   "outputs": [],
   "source": []
  }
 ],
 "metadata": {
  "kernelspec": {
   "display_name": "DSKernel",
   "language": "python",
   "name": "venvds"
  },
  "language_info": {
   "codemirror_mode": {
    "name": "ipython",
    "version": 3
   },
   "file_extension": ".py",
   "mimetype": "text/x-python",
   "name": "python",
   "nbconvert_exporter": "python",
   "pygments_lexer": "ipython3",
   "version": "3.9.23"
  }
 },
 "nbformat": 4,
 "nbformat_minor": 5
}
